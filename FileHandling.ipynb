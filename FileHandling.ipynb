{
 "cells": [
  {
   "cell_type": "markdown",
   "id": "7b243794",
   "metadata": {},
   "source": [
    "Open the file \"demo.txt\" Using Open function"
   ]
  },
  {
   "cell_type": "code",
   "execution_count": 1,
   "id": "bb110e4a",
   "metadata": {},
   "outputs": [],
   "source": [
    "f=open(\"demo.txt\",\"r\")"
   ]
  },
  {
   "cell_type": "markdown",
   "id": "675e9153",
   "metadata": {},
   "source": [
    "To read the data present under the file"
   ]
  },
  {
   "cell_type": "code",
   "execution_count": 2,
   "id": "5c09c5b2",
   "metadata": {},
   "outputs": [],
   "source": [
    "data=f.read()"
   ]
  },
  {
   "cell_type": "markdown",
   "id": "f8ac380c",
   "metadata": {},
   "source": [
    "Print the data"
   ]
  },
  {
   "cell_type": "code",
   "execution_count": 3,
   "id": "51e87cc5",
   "metadata": {},
   "outputs": [
    {
     "name": "stdout",
     "output_type": "stream",
     "text": [
      "I am sejal kumari pursuin b tech cse from G D Goenka University.\n",
      "Learning Python from Apna College.\n"
     ]
    }
   ],
   "source": [
    "print(data)"
   ]
  },
  {
   "cell_type": "markdown",
   "id": "97b99977",
   "metadata": {},
   "source": [
    "Check type of the Data"
   ]
  },
  {
   "cell_type": "code",
   "execution_count": 4,
   "id": "3bd75e30",
   "metadata": {},
   "outputs": [
    {
     "name": "stdout",
     "output_type": "stream",
     "text": [
      "<class 'str'>\n"
     ]
    }
   ],
   "source": [
    "print(type(data))"
   ]
  },
  {
   "cell_type": "markdown",
   "id": "bee5fedb",
   "metadata": {},
   "source": [
    "Close the file"
   ]
  },
  {
   "cell_type": "code",
   "execution_count": 5,
   "id": "d4aab825",
   "metadata": {},
   "outputs": [],
   "source": [
    "#f.close()"
   ]
  },
  {
   "cell_type": "markdown",
   "id": "20f0c675",
   "metadata": {},
   "source": [
    "To print particular range"
   ]
  },
  {
   "cell_type": "code",
   "execution_count": 6,
   "id": "0bd8b27f",
   "metadata": {},
   "outputs": [
    {
     "name": "stdout",
     "output_type": "stream",
     "text": [
      "I am \n"
     ]
    }
   ],
   "source": [
    "with open(\"demo.txt\",\"r\") as f1:\n",
    "    fiveLetters=f1.read(5)\n",
    "    print(fiveLetters)"
   ]
  },
  {
   "cell_type": "markdown",
   "id": "1dc4d171",
   "metadata": {},
   "source": [
    "To print first line of the document"
   ]
  },
  {
   "cell_type": "code",
   "execution_count": 7,
   "id": "611ee186",
   "metadata": {},
   "outputs": [
    {
     "name": "stdout",
     "output_type": "stream",
     "text": [
      "Line from file: here is sejal kumari from gurgaon.\n",
      "\n"
     ]
    }
   ],
   "source": [
    "with open(\"demo1.txt\", \"r\") as f:\n",
    "    line1 = f.readline()\n",
    "    print(\"Line from file:\", line1)"
   ]
  },
  {
   "cell_type": "markdown",
   "id": "9fd87aa0",
   "metadata": {},
   "source": [
    "Use of \"a\" character to append the text"
   ]
  },
  {
   "cell_type": "code",
   "execution_count": 11,
   "id": "091391fa",
   "metadata": {},
   "outputs": [],
   "source": [
    "file=open(\"demo.txt\",\"a\")\n",
    "file.write(\" I will learn Java tomorrow\")\n",
    "file.close()"
   ]
  },
  {
   "cell_type": "markdown",
   "id": "09b72137",
   "metadata": {},
   "source": [
    "Use of w character to overwrite the text"
   ]
  },
  {
   "cell_type": "code",
   "execution_count": 13,
   "id": "2fa37599",
   "metadata": {},
   "outputs": [],
   "source": [
    "file1=open(\"demo1.txt\",'w')\n",
    "file1.write(\"I will Learn Java Tomorrow\")\n",
    "file1.close()"
   ]
  },
  {
   "cell_type": "markdown",
   "id": "6b7ed00d",
   "metadata": {},
   "source": [
    "We can create a new file using \"w\" character if no file exists"
   ]
  },
  {
   "cell_type": "code",
   "execution_count": 14,
   "id": "587e584d",
   "metadata": {},
   "outputs": [],
   "source": [
    "file2=open(\"sample.txt\",\"w\")\n",
    "file2.close()"
   ]
  },
  {
   "cell_type": "markdown",
   "id": "9869e05f",
   "metadata": {},
   "source": [
    "Creating a new file using \"a\" character"
   ]
  },
  {
   "cell_type": "code",
   "execution_count": 15,
   "id": "443d6f91",
   "metadata": {},
   "outputs": [],
   "source": [
    "file3=open(\"sample1.txt\",\"a\")\n",
    "file3.close()"
   ]
  },
  {
   "cell_type": "markdown",
   "id": "bf80bbdf",
   "metadata": {},
   "source": [
    "using \"r+\"character"
   ]
  },
  {
   "cell_type": "markdown",
   "id": "d5fbda05",
   "metadata": {},
   "source": [
    "It will streaam(point) at the begining of the text"
   ]
  },
  {
   "cell_type": "code",
   "execution_count": 17,
   "id": "c13f9905",
   "metadata": {},
   "outputs": [
    {
     "name": "stdout",
     "output_type": "stream",
     "text": [
      "pursuin b tech cse from G D Goenka University.\n",
      "Learning Python from Apna College. I will learn Java tomorrow I will learn Java tomorrow\n"
     ]
    }
   ],
   "source": [
    "f5=open(\"demo.txt\",\"r+\")\n",
    "f5.write(\"I lives in Gurgaon\")\n",
    "print(f5.read())\n",
    "f5.close()"
   ]
  },
  {
   "cell_type": "code",
   "execution_count": null,
   "id": "ccd96b13",
   "metadata": {},
   "outputs": [],
   "source": []
  }
 ],
 "metadata": {
  "kernelspec": {
   "display_name": "base",
   "language": "python",
   "name": "python3"
  },
  "language_info": {
   "codemirror_mode": {
    "name": "ipython",
    "version": 3
   },
   "file_extension": ".py",
   "mimetype": "text/x-python",
   "name": "python",
   "nbconvert_exporter": "python",
   "pygments_lexer": "ipython3",
   "version": "3.11.5"
  }
 },
 "nbformat": 4,
 "nbformat_minor": 5
}
